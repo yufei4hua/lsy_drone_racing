{
 "cells": [
  {
   "cell_type": "code",
   "execution_count": 1,
   "id": "07bcc2fa",
   "metadata": {},
   "outputs": [
    {
     "name": "stderr",
     "output_type": "stream",
     "text": [
      "/home/jiaming/micromamba/envs/race/lib/python3.12/site-packages/tqdm/auto.py:21: TqdmWarning: IProgress not found. Please update jupyter and ipywidgets. See https://ipywidgets.readthedocs.io/en/stable/user_install.html\n",
      "  from .autonotebook import tqdm as notebook_tqdm\n"
     ]
    }
   ],
   "source": [
    "import optuna\n",
    "import matplotlib.pyplot as plt\n",
    "import numpy as np\n",
    "\n",
    "studies_info = [\n",
    "    # {\"name\": \"mpc_study_test\", \"db\": \"sqlite:///./study_traj_20.db\", \"label\": \"Trajectory 20 old\"},\n",
    "    {\"name\": \"mpc_study_test\", \"db\": \"sqlite:///./study_traj_20_corrected.db\", \"label\": \"Trajectory 20 BO\"},\n",
    "    {\"name\": \"mpc_study_test\", \"db\": \"sqlite:///./study_traj_22_corrected.db\", \"label\": \"Trajectory 22 BO\"},\n",
    "    {\"name\": \"mpc_study_test\", \"db\": \"sqlite:///./study_traj_111_corrected.db\", \"label\": \"Trajectory 111 BO\"},\n",
    "]"
   ]
  },
  {
   "cell_type": "code",
   "execution_count": 2,
   "id": "979bfe8f",
   "metadata": {},
   "outputs": [],
   "source": [
    "random_studies_info = [\n",
    "    {\"name\": \"mpc_study_test\", \"db\": \"sqlite:///./study_traj_20_random.db\", \"label\": \"Random Search\"},\n",
    "  ]"
   ]
  },
  {
   "cell_type": "code",
   "execution_count": 3,
   "id": "757d1c8c",
   "metadata": {},
   "outputs": [],
   "source": [
    "def is_dominated(p, others):\n",
    "\n",
    "    return np.any(\n",
    "        (others[:, 0] >= p[0]) & \n",
    "        (others[:, 1] <= p[1]) &  \n",
    "        ((others[:, 0] > p[0]) | (others[:, 1] < p[1]))\n",
    "    )\n",
    "\n",
    "def get_pareto_front(points: np.ndarray) -> np.ndarray:\n",
    "    pareto_points = []\n",
    "    for i, p in enumerate(points):\n",
    "        others = np.delete(points, i, axis=0)\n",
    "        if not is_dominated(p, others):\n",
    "            pareto_points.append(p)\n",
    "    return np.array(pareto_points)"
   ]
  },
  {
   "cell_type": "code",
   "execution_count": null,
   "id": "3c049b77",
   "metadata": {},
   "outputs": [
    {
     "ename": "SyntaxError",
     "evalue": "invalid syntax (2501546086.py, line 1)",
     "output_type": "error",
     "traceback": [
      "  \u001b[36mCell\u001b[39m\u001b[36m \u001b[39m\u001b[32mIn[4]\u001b[39m\u001b[32m, line 1\u001b[39m\n\u001b[31m    \u001b[39m\u001b[31mplt.show()ors = plt.cm.get_cmap(\"tab10\", len(studies_info))\u001b[39m\n              ^\n\u001b[31mSyntaxError\u001b[39m\u001b[31m:\u001b[39m invalid syntax\n"
     ]
    }
   ],
   "source": [
    "colors = plt.cm.get_cmap(\"tab10\", len(studies_info))\n",
    "\n",
    "plt.figure(figsize=(15 * 0.8, 9 * 0.8))\n",
    "all_points = {}\n",
    "\n",
    "for idx, info in enumerate(studies_info):\n",
    "    study = optuna.load_study(study_name=info[\"name\"], storage=info[\"db\"])\n",
    "    points = []\n",
    "    for trial in study.trials:\n",
    "        if trial.values is not None and len(trial.values) >= 2:\n",
    "            success_rate = trial.values[0]*100\n",
    "            # if success_rate < 40:\n",
    "            #     continue\n",
    "            avg_time = trial.values[1]\n",
    "            points.append((success_rate, avg_time))\n",
    "            all_points[(info['db'], trial._trial_id)] = (success_rate, avg_time)\n",
    "    if points:\n",
    "        points = np.array(points)\n",
    "        plt.scatter(points[:, 0], points[:, 1], alpha=0.4, label=info[\"label\"], color=colors(idx))\n",
    "from scipy.spatial import ConvexHull\n",
    "\n",
    "if len(all_points.keys()) > 2:\n",
    "    all_points_list = np.array(list(all_points.values()))\n",
    "    pareto_points = get_pareto_front(all_points_list)\n",
    "    pareto_points = pareto_points[np.argsort(pareto_points[:, 0])]\n",
    "    plt.plot(pareto_points[:, 0], pareto_points[:, 1], 'r--', label=\"Pareto Front BO\")\n",
    "    # hull = ConvexHull(all_points_list)\n",
    "    # hull_points = all_points_list[hull.vertices]\n",
    "    # hull_points = np.concatenate([hull_points, hull_points[:1]], axis=0)\n",
    "    # plt.plot(hull_points[:, 0], hull_points[:, 1], '-', color='red', linewidth=2, label='Pareto Front')\n",
    "\n",
    "all_points = {}\n",
    "for idx, info in enumerate(random_studies_info):\n",
    "    study = optuna.load_study(study_name=info[\"name\"], storage=info[\"db\"])\n",
    "    points = []\n",
    "    for trial in study.trials:\n",
    "        if trial.values is not None and len(trial.values) >= 2:\n",
    "            success_rate = trial.values[0]*100\n",
    "            # if success_rate < 40:\n",
    "            #     continue\n",
    "            avg_time = trial.values[1]\n",
    "            points.append((success_rate, avg_time))\n",
    "            all_points[(info['db'], trial._trial_id)] = (success_rate, avg_time)\n",
    "    if points:\n",
    "        points = np.array(points)\n",
    "        plt.scatter(points[:, 0], points[:, 1], alpha=1, label=info[\"label\"], color='black', marker='x')\n",
    "from scipy.spatial import ConvexHull\n",
    "\n",
    "if len(all_points.keys()) > 2:\n",
    "    all_points_list = np.array(list(all_points.values()))\n",
    "    pareto_points = get_pareto_front(all_points_list)\n",
    "    pareto_points = pareto_points[np.argsort(pareto_points[:, 0])]\n",
    "    plt.plot(pareto_points[:, 0], pareto_points[:, 1], 'b--', label=\"Pareto Front Random Search\")\n",
    "    # hull = ConvexHull(all_points_list)\n",
    "    # hull_points = all_points_list[hull.vertices]\n",
    "    # hull_points = np.concatenate([hull_points, hull_points[:1]], axis=0)\n",
    "    # plt.plot(hull_points[:, 0], hull_points[:, 1], '-', color='red', linewidth=2, label='Pareto Front')\n",
    "    \n",
    "plt.xlim(50, 90)\n",
    "plt.ylim(4.5, 7.0)\n",
    "plt.xlabel(\"Success Rate (%)\")\n",
    "plt.ylabel(\"Average Time (s)\")\n",
    "plt.title(\"Pareto Front of Drone Rollout (Multiple Studies)\")\n",
    "plt.legend()\n",
    "plt.grid(True)\n",
    "plt.tight_layout()\n",
    "plt.show()"
   ]
  },
  {
   "cell_type": "code",
   "execution_count": null,
   "id": "f9e85e4f",
   "metadata": {},
   "outputs": [
    {
     "name": "stdout",
     "output_type": "stream",
     "text": [
      "High Success Rate Points (Success Rate > 0.48 and Time < 5.0):\n",
      "Index: 0, Info: ('sqlite:///./study_traj_20_corrected.db', 198), Point: (0.8200000000000001, 6.008130081300813)\n",
      "Index: 1, Info: ('sqlite:///./study_traj_20_corrected.db', 242), Point: (0.8533333333333333, 6.16515625)\n",
      "Index: 2, Info: ('sqlite:///./study_traj_20_corrected.db', 340), Point: (0.84, 6.116666666666666)\n",
      "Index: 3, Info: ('sqlite:///./study_traj_20_corrected.db', 401), Point: (0.81, 5.834074074074074)\n",
      "Index: 4, Info: ('sqlite:///./study_traj_111_corrected.db', 325), Point: (0.81, 5.925925925925926)\n"
     ]
    }
   ],
   "source": [
    "# Query points that is higher than 0.48 success rate and has average time smaller than 5.0 and print the index of them\n",
    "high_success_points = [(info, point) for info, point in all_points.items() if point[0] > 0.8 and point[1] < 6.2]\n",
    "print(\"High Success Rate Points (Success Rate > 0.48 and Time < 5.0):\")\n",
    "for i, (info, point) in enumerate(high_success_points):\n",
    "    print(f\"Index: {i}, Info: {info}, Point: {point}\")"
   ]
  }
 ],
 "metadata": {
  "kernelspec": {
   "display_name": "race",
   "language": "python",
   "name": "python3"
  },
  "language_info": {
   "codemirror_mode": {
    "name": "ipython",
    "version": 3
   },
   "file_extension": ".py",
   "mimetype": "text/x-python",
   "name": "python",
   "nbconvert_exporter": "python",
   "pygments_lexer": "ipython3",
   "version": "3.12.11"
  }
 },
 "nbformat": 4,
 "nbformat_minor": 5
}
